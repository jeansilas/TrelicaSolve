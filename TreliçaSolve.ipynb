{
 "cells": [
  {
   "cell_type": "markdown",
   "metadata": {},
   "source": [
    "# APS4:  Transferência de Calor e Mecânica dos Sólidos"
   ]
  },
  {
   "cell_type": "markdown",
   "metadata": {},
   "source": [
    "Alunos: Fabricio Neri Lima, Jean Silas Ferreira Sanandrez e Luiza Valezim Augusto Pinto"
   ]
  },
  {
   "cell_type": "markdown",
   "metadata": {},
   "source": [
    "**Propósito**: Algoritmo em Python que faz uma análise das treliças."
   ]
  },
  {
   "cell_type": "code",
   "execution_count": 14,
   "metadata": {},
   "outputs": [],
   "source": [
    "import numpy as np\n",
    "import matplotlib.pyplot as plt\n",
    "from math import * \n",
    "from cmath import *\n",
    "from funcoesTermosol import plota, importa, geraSaida"
   ]
  },
  {
   "cell_type": "code",
   "execution_count": 15,
   "metadata": {},
   "outputs": [],
   "source": [
    "def fix_arrays_int(R):\n",
    "    f = lambda t: int(t)\n",
    "    f = np.vectorize(f)\n",
    "    R_ = np.reshape(R,len(R))\n",
    "    R_ = f(R_)\n",
    "    \n",
    "    return R_\n",
    "\n",
    "def fix_int(array):\n",
    "    f = lambda t: int(t)\n",
    "    f = np.vectorize(f)\n",
    "    array = [print(i) for i in array]\n",
    "    \n",
    "    return array\n",
    "\n",
    "\n",
    "def fix_arrays(R):\n",
    "    R_ = np.reshape(R,len(R))\n",
    "    \n",
    "    return R_\n",
    "\n",
    "def seidel(a, x ,b):\n",
    "    #Finding length of a(3)\n",
    "    n = len(a)\n",
    "    # for loop for 3 times as to calculate x, y , z\n",
    "    for j in range(0, n):\n",
    "        # temp variable d to store b[j]\n",
    "        d = b[j]\n",
    "        \n",
    "        # to calculate respective xi, yi, zi\n",
    "        for i in range(0, n):\n",
    "            if(j != i):\n",
    "                d-=a[j][i] * x[i]\n",
    "    # updating the value of our solution\n",
    "        x[j] = d / a[j][j]\n",
    "    # returning our updated solution\n",
    "    return x\n",
    "\n",
    "#loop run for m times depending on m the error value\n",
    "def solver_desloc(KG,F,n,R):\n",
    "    KG = apply_restrictions(KG,R)\n",
    "    F = apply_restrictions(F,R)\n",
    "    nnx = len(KG)\n",
    "    nny = 1\n",
    "    U = np.zeros((n,nnx,nny))\n",
    "    F = fix_arrays(F)\n",
    "    for i in range(0, n-1):\n",
    "        U[i+1,:,:] = seidel(KG, U[i,:,:], F)\n",
    "        #print each time the updated solution\n",
    "        tol = (10**(-8))\n",
    "        \n",
    "        erro = np.amax(abs((U[i, 1:nnx-1, 0]-U[i-1, 1:nnx-1, 0])/U[i, 1:nnx-1, 0]))\n",
    "        #print(erro)\n",
    "        \n",
    "        if (tol>=erro) and (i > 2):\n",
    "            print(f\"parou antes de n: [{i}]\")\n",
    "            return U[i,:,:], regenerate_array(U[i,:,:],R)\n",
    "        \n",
    "    \n",
    "    return U[n-2,:,:], regenerate_array(U[n-2,:,:],R)\n",
    "\n",
    "def build_global(n_cr,nm,Kg,mat_mem,membros_f):\n",
    "    \n",
    "    inds = [[ (i+j)%n_cr for i in range(0,4)] for j in range(0,nm*2,2)]\n",
    "    inds_true = [[inds[int(mem['Position'][0])-1][0],inds[int(mem['Position'][0])-1][1],inds[int(mem['Position'][1])-1][0],inds[int(mem['Position'][1])-1][1]] for mem in membros_f]\n",
    "    \n",
    "    for interval,mat in zip(inds_true,mat_mem):\n",
    "        \n",
    "        Kg[np.ix_(interval,interval)] += np.zeros((4,4)) # Se vc não adiciona esta linha a matriz adiciona duas vezes a matriz seguinte\n",
    "        Kg[np.ix_(interval,interval)] += mat\n",
    "    \n",
    "    return Kg\n",
    "\n",
    "def solve_deform_tensions_intF(Desloc,membros_f,n_cr,nm):\n",
    "    \n",
    "    inds = [[ (i+j)%n_cr for i in range(0,4)] for j in range(0,nm*2,2)]\n",
    "    inds_true = [[inds[int(mem['Position'][0])-1][0],inds[int(mem['Position'][0])-1][1],inds[int(mem['Position'][1])-1][0],inds[int(mem['Position'][1])-1][1]] for mem in membros_f]\n",
    "    \n",
    "    Desloc_mem = [[ Desloc[i] for i in inds] for j,inds in zip(range(0,nm*2,2),inds_true)]\n",
    "    \n",
    "    deforms = [ (1/m['l'])*np.dot(np.array([-m['c'],-m['s'],m['c'],m['s']]),desloc) \n",
    "               for m,desloc in zip(membros_f,Desloc_mem)]\n",
    "    \n",
    "    tensions = [np.dot(m['E'],deform) for m,deform in zip(membros_f,deforms)]\n",
    "    \n",
    "    int_F = [np.dot(m['A'],tension) for m,tension in zip(membros_f,tensions)]\n",
    "    \n",
    "    return np.asarray(deforms), np.asarray(tensions), np.asarray(int_F)\n",
    "\n",
    "def solve_ReactF(Kg,Desloc,R):\n",
    "    R = fix_arrays_int(R)\n",
    "    react_F_false = np.dot(Kg,Desloc)\n",
    "    react_F = np.asarray([react_F_false[i] for i in R])\n",
    "    return react_F\n",
    "\n",
    "def apply_restrictions(New_Kg,R):\n",
    "    R_ = fix_arrays_int(R)\n",
    "    try:\n",
    "        New_Kg = np.delete(New_Kg,R_,0)\n",
    "    except:\n",
    "        pass\n",
    "    try:\n",
    "        New_Kg = np.delete(New_Kg,R_,1)\n",
    "    except:\n",
    "        pass\n",
    "    \n",
    "    return New_Kg\n",
    "\n",
    "def regenerate_array(array,R):\n",
    "    R= fix_arrays_int(R)\n",
    "    array = fix_arrays(array)\n",
    "    for i in R:\n",
    "        array = np.insert(array,i,0)\n",
    "    return array\n",
    "\n",
    "def format_arrays(array):\n",
    "    \n",
    "    return np.array([[i] for i in array])\n",
    "\n",
    "def solver(entrada,saida,n=1000):\n",
    "    \n",
    "    # nn: número de nós\n",
    "    # N: matriz dos nós\n",
    "    # nm: número de membros\n",
    "    # Inc: matriz de incidência\n",
    "    # nc: número de cargas\n",
    "    # F : vetor de carregamento\n",
    "    # nr: número de restrições\n",
    "    # R : vetor de restrições\n",
    "    # n : número de iterções para função solver\n",
    "\n",
    "    [nn,N,nm,Inc,nc,F,nr,R] = importa(f'{entrada}.xlsx')\n",
    "    plota(N,Inc)\n",
    "    \n",
    "    # Inicializando a matriz de Rigidez Global (Kg)\n",
    "\n",
    "    n_cr = nn*2\n",
    "    Kg = np.zeros((n_cr,n_cr))\n",
    "    \n",
    "    # Criando um array de dicionário com as infos de cada membro\n",
    "    membros_l = [ np.sqrt((N[0][int(j[0])-1]-N[0][int(j[1])-1])**2 + (N[1][int(j[0]-1)]-N[1][int(j[1])-1])**2) for j in Inc ]\n",
    "    membros_c_s = [ ( (N[0][int(j[1])-1]-N[0][int(j[0])-1])/l,(N[1][int(j[1])-1]-N[1][int(j[0])-1])/l ) for j,l in zip(Inc,membros_l) ]\n",
    "    membros_f = [ {\"membro\":i, \"E\":inc[2], \"A\":inc[3], \"Position\":(inc[0],inc[1]), \"l\":l, \"c\":cs[0], \"s\":cs[1]} for i,inc,l,cs in zip(range(1,nm+1),Inc,membros_l,membros_c_s) ]\n",
    "    dic_info = {\"membros_f\":membros_f,\"número de nós\":nn,\"Vetor de Restrições\":R, \"Vetor de Carregamento\":F }\n",
    "    \n",
    "    #Matrizes com as riggidez de cada elemento de modo global\n",
    "    mat_mem = [(m['E']*m['A']/m['l'])*np.array([[m['c']**2,m['c']*m['s'],-m['c']**2,-m['c']*m['s']],\n",
    "                                                [m['c']*m['s'],m['s']**2,-m['c']*m['s'],-m['s']**2],\n",
    "                                                [-m['c']**2,-m['c']*m['s'],m['c']**2,m['c']*m['s']],\n",
    "                                                [-m['c']*m['s'],-m['s']**2,m['c']*m['s'],m['s']**2]]) for m in membros_f ]\n",
    "    \n",
    "    # Aplicandos as soluções\n",
    "    Kg = build_global(n_cr,nm,Kg,mat_mem,membros_f)\n",
    "    Desloc_part, Desloc = solver_desloc(Kg,F,n,R)\n",
    "    Deforms, Tensions, Int_F = solve_deform_tensions_intF(Desloc,membros_f,n_cr,nm)\n",
    "    React_F = solve_ReactF(Kg,Desloc,R)\n",
    "    \n",
    "    # Formatando para saída\n",
    "    nome = saida\n",
    "    Ft = format_arrays(React_F)\n",
    "    Ut = format_arrays(Desloc)\n",
    "    Epsi = format_arrays(Deforms)\n",
    "    Fi = format_arrays(Int_F)\n",
    "    Ti = format_arrays(Tensions)\n",
    "    geraSaida(nome,Ft,Ut,Epsi,Fi,Ti)\n",
    "\n",
    "    \n"
   ]
  },
  {
   "cell_type": "code",
   "execution_count": 17,
   "metadata": {},
   "outputs": [
    {
     "data": {
      "image/png": "[encoded data removed]",
      "text/plain": [
       "<Figure size 432x288 with 1 Axes>"
      ]
     },
     "metadata": {
      "needs_background": "light"
     },
     "output_type": "display_data"
    },
    {
     "name": "stdout",
     "output_type": "stream",
     "text": [
      "parou antes de n: [626]\n"
     ]
    }
   ],
   "source": [
    "solver(\"entrada_validacao\",\"saida_validacao\")"
   ]
  },
  {
   "cell_type": "code",
   "execution_count": null,
   "metadata": {},
   "outputs": [],
   "source": []
  },
  {
   "cell_type": "code",
   "execution_count": null,
   "metadata": {},
   "outputs": [],
   "source": []
  }
 ],
 "metadata": {
  "kernelspec": {
   "display_name": "Python 3",
   "language": "python",
   "name": "python3"
  },
  "language_info": {
   "codemirror_mode": {
    "name": "ipython",
    "version": 3
   },
   "file_extension": ".py",
   "mimetype": "text/x-python",
   "name": "python",
   "nbconvert_exporter": "python",
   "pygments_lexer": "ipython3",
   "version": "3.8.5"
  }
 },
 "nbformat": 4,
 "nbformat_minor": 4
}
